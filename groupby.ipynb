{
 "cells": [
  {
   "cell_type": "markdown",
   "id": "5fc1674a",
   "metadata": {},
   "source": [
    "groupby practice\n",
    "June 27th, 2024"
   ]
  },
  {
   "cell_type": "code",
   "execution_count": 3,
   "id": "2903df69",
   "metadata": {
    "scrolled": true
   },
   "outputs": [
    {
     "data": {
      "text/html": [
       "<div>\n",
       "<style scoped>\n",
       "    .dataframe tbody tr th:only-of-type {\n",
       "        vertical-align: middle;\n",
       "    }\n",
       "\n",
       "    .dataframe tbody tr th {\n",
       "        vertical-align: top;\n",
       "    }\n",
       "\n",
       "    .dataframe thead th {\n",
       "        text-align: right;\n",
       "    }\n",
       "</style>\n",
       "<table border=\"1\" class=\"dataframe\">\n",
       "  <thead>\n",
       "    <tr style=\"text-align: right;\">\n",
       "      <th></th>\n",
       "      <th>A</th>\n",
       "      <th>B</th>\n",
       "    </tr>\n",
       "  </thead>\n",
       "  <tbody>\n",
       "    <tr>\n",
       "      <th>0</th>\n",
       "      <td>foo</td>\n",
       "      <td>1</td>\n",
       "    </tr>\n",
       "    <tr>\n",
       "      <th>1</th>\n",
       "      <td>bar</td>\n",
       "      <td>2</td>\n",
       "    </tr>\n",
       "    <tr>\n",
       "      <th>2</th>\n",
       "      <td>foo</td>\n",
       "      <td>3</td>\n",
       "    </tr>\n",
       "    <tr>\n",
       "      <th>3</th>\n",
       "      <td>bar</td>\n",
       "      <td>4</td>\n",
       "    </tr>\n",
       "    <tr>\n",
       "      <th>4</th>\n",
       "      <td>foo</td>\n",
       "      <td>5</td>\n",
       "    </tr>\n",
       "    <tr>\n",
       "      <th>5</th>\n",
       "      <td>bar</td>\n",
       "      <td>6</td>\n",
       "    </tr>\n",
       "  </tbody>\n",
       "</table>\n",
       "</div>"
      ],
      "text/plain": [
       "     A  B\n",
       "0  foo  1\n",
       "1  bar  2\n",
       "2  foo  3\n",
       "3  bar  4\n",
       "4  foo  5\n",
       "5  bar  6"
      ]
     },
     "execution_count": 3,
     "metadata": {},
     "output_type": "execute_result"
    }
   ],
   "source": [
    "import pandas as pd\n",
    "\n",
    "# Sample DataFrame\n",
    "data = {'A': ['foo', 'bar', 'foo', 'bar', 'foo', 'bar'],\n",
    "        'B': [1, 2, 3, 4, 5, 6]}\n",
    "df = pd.DataFrame(data)\n",
    "\n",
    "# Group by column 'A'\n",
    "# Will group all of the same levels or categories in column A, in this example foo and bar\n",
    "grouped = df.groupby('A')\n",
    "\n",
    "# print(type(grouped))\n",
    "# You are not able to see or print 'grouped', it is doing that in the background \n",
    "\n",
    "df\n"
   ]
  },
  {
   "cell_type": "code",
   "execution_count": 8,
   "id": "7ea48da9",
   "metadata": {},
   "outputs": [
    {
     "name": "stdout",
     "output_type": "stream",
     "text": [
      "      B\n",
      "A      \n",
      "bar  12\n",
      "foo   9\n",
      "<class 'NoneType'>\n"
     ]
    }
   ],
   "source": [
    "# Aggregation\n",
    "# Aggregation: Apply aggregate functions such as sum(), mean(), count(), etc.\n",
    "# grouped is a df that has combined all same variables in column A and then it will add all the corresponding number\n",
    "# in column B\n",
    "# Returns a df called grouped_sum\n",
    "grouped_sum = grouped.sum()\n",
    "# print(type(grouped_sum))"
   ]
  },
  {
   "cell_type": "code",
   "execution_count": 9,
   "id": "b11fcc5d",
   "metadata": {
    "scrolled": true
   },
   "outputs": [
    {
     "name": "stdout",
     "output_type": "stream",
     "text": [
      "bar\n",
      "     A  B\n",
      "1  bar  2\n",
      "3  bar  4\n",
      "5  bar  6\n",
      "foo\n",
      "     A  B\n",
      "0  foo  1\n",
      "2  foo  3\n",
      "4  foo  5\n"
     ]
    }
   ],
   "source": [
    "#Iteration: Iterate over each group.\n",
    "# Prints out the name of each group and all of its rows\n",
    "for name, group in grouped:\n",
    "    print(name)\n",
    "    print(group)"
   ]
  },
  {
   "cell_type": "code",
   "execution_count": 12,
   "id": "655ca091",
   "metadata": {},
   "outputs": [
    {
     "data": {
      "text/html": [
       "<div>\n",
       "<style scoped>\n",
       "    .dataframe tbody tr th:only-of-type {\n",
       "        vertical-align: middle;\n",
       "    }\n",
       "\n",
       "    .dataframe tbody tr th {\n",
       "        vertical-align: top;\n",
       "    }\n",
       "\n",
       "    .dataframe thead th {\n",
       "        text-align: right;\n",
       "    }\n",
       "</style>\n",
       "<table border=\"1\" class=\"dataframe\">\n",
       "  <thead>\n",
       "    <tr style=\"text-align: right;\">\n",
       "      <th></th>\n",
       "      <th>B</th>\n",
       "    </tr>\n",
       "  </thead>\n",
       "  <tbody>\n",
       "    <tr>\n",
       "      <th>0</th>\n",
       "      <td>-2.0</td>\n",
       "    </tr>\n",
       "    <tr>\n",
       "      <th>1</th>\n",
       "      <td>-2.0</td>\n",
       "    </tr>\n",
       "    <tr>\n",
       "      <th>2</th>\n",
       "      <td>0.0</td>\n",
       "    </tr>\n",
       "    <tr>\n",
       "      <th>3</th>\n",
       "      <td>0.0</td>\n",
       "    </tr>\n",
       "    <tr>\n",
       "      <th>4</th>\n",
       "      <td>2.0</td>\n",
       "    </tr>\n",
       "    <tr>\n",
       "      <th>5</th>\n",
       "      <td>2.0</td>\n",
       "    </tr>\n",
       "  </tbody>\n",
       "</table>\n",
       "</div>"
      ],
      "text/plain": [
       "     B\n",
       "0 -2.0\n",
       "1 -2.0\n",
       "2  0.0\n",
       "3  0.0\n",
       "4  2.0\n",
       "5  2.0"
      ]
     },
     "execution_count": 12,
     "metadata": {},
     "output_type": "execute_result"
    }
   ],
   "source": [
    "# Transformation: Apply transformations that return an object with the same shape as the original.\n",
    "# The transform method is applied to each group\n",
    "# The lambda function lambda x: x - x.mean() is applied to each group separately.\n",
    "# Lambda Function: lambda x: x - x.mean(): for each group, the mean of the group is calculated, then each value\n",
    "# in the group is subtracted by the mean of that group\n",
    "# This process essentially normalizes each group by subtracting the group mean, so the resulting values \n",
    "#represent deviations from the mean of their respective groups.\n",
    "grouped_transform = grouped.transform(lambda x: x - x.mean())\n",
    "grouped_transform\n",
    "# print(grouped_transform)\n",
    "# Output: dataframe with same shape as original df, with each value replaced by its deviation from the the mean\n",
    "# of it's group\n",
    "# For group 'foo' (indices 0, 2, 4), the mean of column 'B' is (1+3+5)/3 = 3. So, the transformed values are \n",
    "#[1-3, 3-3, 5-3] = [-2, 0, 2].\n",
    "# For group 'bar' (indices 1, 3, 5), the mean of column 'B' is (2+4+6)/3 = 4. So, the transformed values are \n",
    "# [2-4, 4-4, 6-4] = [-2, 0, 2]"
   ]
  },
  {
   "cell_type": "code",
   "execution_count": null,
   "id": "4618f703",
   "metadata": {},
   "outputs": [],
   "source": []
  }
 ],
 "metadata": {
  "kernelspec": {
   "display_name": "Python 3 (ipykernel)",
   "language": "python",
   "name": "python3"
  },
  "language_info": {
   "codemirror_mode": {
    "name": "ipython",
    "version": 3
   },
   "file_extension": ".py",
   "mimetype": "text/x-python",
   "name": "python",
   "nbconvert_exporter": "python",
   "pygments_lexer": "ipython3",
   "version": "3.11.7"
  }
 },
 "nbformat": 4,
 "nbformat_minor": 5
}
